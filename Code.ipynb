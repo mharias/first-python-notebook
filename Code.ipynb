{
 "cells": [
  {
   "cell_type": "markdown",
   "metadata": {},
   "source": [
    "# Codigo del curso Python para journalist"
   ]
  },
  {
   "cell_type": "markdown",
   "metadata": {},
   "source": [
    "Zona de importacion de librerias"
   ]
  },
  {
   "cell_type": "code",
   "execution_count": 1,
   "metadata": {
    "collapsed": true
   },
   "outputs": [],
   "source": [
    "import matplotlib"
   ]
  },
  {
   "cell_type": "code",
   "execution_count": 5,
   "metadata": {},
   "outputs": [],
   "source": [
    "import pandas as pd\n",
    "\n"
   ]
  },
  {
   "cell_type": "markdown",
   "metadata": {},
   "source": [
    "Importamos los datos"
   ]
  },
  {
   "cell_type": "code",
   "execution_count": 12,
   "metadata": {
    "collapsed": true
   },
   "outputs": [],
   "source": [
    "props=pd.read_csv(\"http://www.firstpythonnotebook.org/_static/committees.csv\")"
   ]
  },
  {
   "cell_type": "code",
   "execution_count": 9,
   "metadata": {},
   "outputs": [],
   "source": [
    "contribs = pd.read_csv(\"http://www.firstpythonnotebook.org/_static/contributions.csv\")"
   ]
  },
  {
   "cell_type": "markdown",
   "metadata": {},
   "source": [
    "Unimos las dos dataframes"
   ]
  },
  {
   "cell_type": "code",
   "execution_count": 17,
   "metadata": {
    "collapsed": true
   },
   "outputs": [],
   "source": [
    "merged = pd.merge(props, contribs, on=\"calaccess_committee_id\")"
   ]
  },
  {
   "cell_type": "code",
   "execution_count": 18,
   "metadata": {
    "collapsed": true
   },
   "outputs": [
    {
     "data": {
      "text/plain": [
       "466851993.3900001"
      ]
     },
     "execution_count": 18,
     "metadata": {},
     "output_type": "execute_result"
    }
   ],
   "source": [
    "merged.amount.sum()"
   ]
  },
  {
   "cell_type": "code",
   "execution_count": 20,
   "metadata": {},
   "outputs": [],
   "source": [
    "%matplotlib inline"
   ]
  },
  {
   "cell_type": "code",
   "execution_count": 27,
   "metadata": {
    "collapsed": true
   },
   "outputs": [],
   "source": [
    "prop = props[props.prop_name == 'PROPOSITION 064- MARIJUANA LEGALIZATION. INITIATIVE STATUTE.']"
   ]
  },
  {
   "cell_type": "code",
   "execution_count": 28,
   "metadata": {
    "collapsed": true
   },
   "outputs": [],
   "source": [
    "merged = pd.merge(prop, contribs, on=\"calaccess_committee_id\")\n"
   ]
  },
  {
   "cell_type": "code",
   "execution_count": 29,
   "metadata": {},
   "outputs": [
    {
     "data": {
      "text/plain": [
       "35177017.640000001"
      ]
     },
     "execution_count": 29,
     "metadata": {},
     "output_type": "execute_result"
    }
   ],
   "source": [
    "merged.amount.sum()"
   ]
  },
  {
   "cell_type": "code",
   "execution_count": 30,
   "metadata": {},
   "outputs": [
    {
     "data": {
      "text/plain": [
       "SUPPORT    762\n",
       "OPPOSE      98\n",
       "Name: committee_position, dtype: int64"
      ]
     },
     "execution_count": 30,
     "metadata": {},
     "output_type": "execute_result"
    }
   ],
   "source": [
    "merged.committee_position.value_counts()"
   ]
  },
  {
   "cell_type": "code",
   "execution_count": 31,
   "metadata": {
    "collapsed": true
   },
   "outputs": [],
   "source": [
    "support = merged[merged.committee_position == 'SUPPORT']\n"
   ]
  },
  {
   "cell_type": "code",
   "execution_count": 32,
   "metadata": {
    "collapsed": true
   },
   "outputs": [],
   "source": [
    "oppose = merged[merged.committee_position == 'OPPOSE']"
   ]
  },
  {
   "cell_type": "code",
   "execution_count": 33,
   "metadata": {},
   "outputs": [
    {
     "data": {
      "text/plain": [
       "32675806.0"
      ]
     },
     "execution_count": 33,
     "metadata": {},
     "output_type": "execute_result"
    }
   ],
   "source": [
    "support.amount.sum()"
   ]
  },
  {
   "cell_type": "code",
   "execution_count": 34,
   "metadata": {},
   "outputs": [
    {
     "data": {
      "text/plain": [
       "2501211.6400000001"
      ]
     },
     "execution_count": 34,
     "metadata": {},
     "output_type": "execute_result"
    }
   ],
   "source": [
    "oppose.amount.sum()"
   ]
  },
  {
   "cell_type": "code",
   "execution_count": 35,
   "metadata": {},
   "outputs": [
    {
     "data": {
      "text/html": [
       "<div>\n",
       "<style>\n",
       "    .dataframe thead tr:only-child th {\n",
       "        text-align: right;\n",
       "    }\n",
       "\n",
       "    .dataframe thead th {\n",
       "        text-align: left;\n",
       "    }\n",
       "\n",
       "    .dataframe tbody tr th {\n",
       "        vertical-align: top;\n",
       "    }\n",
       "</style>\n",
       "<table border=\"1\" class=\"dataframe\">\n",
       "  <thead>\n",
       "    <tr style=\"text-align: right;\">\n",
       "      <th></th>\n",
       "      <th>ocd_prop_id</th>\n",
       "      <th>calaccess_prop_id</th>\n",
       "      <th>ccdc_prop_id</th>\n",
       "      <th>prop_name</th>\n",
       "      <th>ccdc_committee_id</th>\n",
       "      <th>calaccess_committee_id</th>\n",
       "      <th>committee_name_x</th>\n",
       "      <th>committee_position</th>\n",
       "      <th>committee_name_y</th>\n",
       "      <th>calaccess_filing_id</th>\n",
       "      <th>date_received</th>\n",
       "      <th>contributor_lastname</th>\n",
       "      <th>contributor_firstname</th>\n",
       "      <th>contributor_city</th>\n",
       "      <th>contributor_state</th>\n",
       "      <th>contributor_zip</th>\n",
       "      <th>contributor_employer</th>\n",
       "      <th>contributor_occupation</th>\n",
       "      <th>contributor_is_self_employed</th>\n",
       "      <th>amount</th>\n",
       "    </tr>\n",
       "  </thead>\n",
       "  <tbody>\n",
       "    <tr>\n",
       "      <th>142</th>\n",
       "      <td>ocd-contest/232cb72c-1b11-4293-b4e2-a181e80d172e</td>\n",
       "      <td>1381868</td>\n",
       "      <td>83</td>\n",
       "      <td>PROPOSITION 064- MARIJUANA LEGALIZATION. INITI...</td>\n",
       "      <td>456</td>\n",
       "      <td>1381808</td>\n",
       "      <td>YES ON 64, CALIFORNIANS TO CONTROL, REGULATE A...</td>\n",
       "      <td>SUPPORT</td>\n",
       "      <td>YES ON 64, CALIFORNIANS TO CONTROL, REGULATE A...</td>\n",
       "      <td>2083528</td>\n",
       "      <td>2016-09-15</td>\n",
       "      <td>PARKER AND AFFILIATED ENTITIES</td>\n",
       "      <td>SEAN</td>\n",
       "      <td>PALO ALTO</td>\n",
       "      <td>CA</td>\n",
       "      <td>94301</td>\n",
       "      <td>NaN</td>\n",
       "      <td>NaN</td>\n",
       "      <td>False</td>\n",
       "      <td>4000000.0</td>\n",
       "    </tr>\n",
       "    <tr>\n",
       "      <th>79</th>\n",
       "      <td>ocd-contest/232cb72c-1b11-4293-b4e2-a181e80d172e</td>\n",
       "      <td>1381868</td>\n",
       "      <td>83</td>\n",
       "      <td>PROPOSITION 064- MARIJUANA LEGALIZATION. INITI...</td>\n",
       "      <td>456</td>\n",
       "      <td>1381808</td>\n",
       "      <td>YES ON 64, CALIFORNIANS TO CONTROL, REGULATE A...</td>\n",
       "      <td>SUPPORT</td>\n",
       "      <td>YES ON 64, CALIFORNIANS TO CONTROL, REGULATE A...</td>\n",
       "      <td>2083528</td>\n",
       "      <td>2016-09-15</td>\n",
       "      <td>DRUG POLICY ACTION - NON PROFIT 501C4, YES ON ...</td>\n",
       "      <td>NaN</td>\n",
       "      <td>SACRAMENTO</td>\n",
       "      <td>CA</td>\n",
       "      <td>95815</td>\n",
       "      <td>NaN</td>\n",
       "      <td>NaN</td>\n",
       "      <td>False</td>\n",
       "      <td>2000000.0</td>\n",
       "    </tr>\n",
       "    <tr>\n",
       "      <th>846</th>\n",
       "      <td>ocd-contest/232cb72c-1b11-4293-b4e2-a181e80d172e</td>\n",
       "      <td>1381868</td>\n",
       "      <td>83</td>\n",
       "      <td>PROPOSITION 064- MARIJUANA LEGALIZATION. INITI...</td>\n",
       "      <td>464</td>\n",
       "      <td>1385506</td>\n",
       "      <td>DRUG POLICY ACTION - NON PROFIT 501C4, YES ON ...</td>\n",
       "      <td>SUPPORT</td>\n",
       "      <td>DRUG POLICY ACTION - NON PROFIT 501C4, YES ON ...</td>\n",
       "      <td>2083608</td>\n",
       "      <td>2016-09-15</td>\n",
       "      <td>FUND FOR POLICY REFORM (NONPROFIT 501 (C)(4))</td>\n",
       "      <td>NaN</td>\n",
       "      <td>NEW YORK</td>\n",
       "      <td>NY</td>\n",
       "      <td>10019</td>\n",
       "      <td>NaN</td>\n",
       "      <td>NaN</td>\n",
       "      <td>False</td>\n",
       "      <td>1970000.0</td>\n",
       "    </tr>\n",
       "    <tr>\n",
       "      <th>851</th>\n",
       "      <td>ocd-contest/232cb72c-1b11-4293-b4e2-a181e80d172e</td>\n",
       "      <td>1381868</td>\n",
       "      <td>83</td>\n",
       "      <td>PROPOSITION 064- MARIJUANA LEGALIZATION. INITI...</td>\n",
       "      <td>465</td>\n",
       "      <td>1385745</td>\n",
       "      <td>FUND FOR POLICY REFORM (NONPROFIT 501(C)(4))</td>\n",
       "      <td>SUPPORT</td>\n",
       "      <td>FUND FOR POLICY REFORM (NONPROFIT 501(C)(4))</td>\n",
       "      <td>2082414</td>\n",
       "      <td>2016-09-15</td>\n",
       "      <td>FUND FOR POLICY REFORM</td>\n",
       "      <td>NaN</td>\n",
       "      <td>WILMINGTON</td>\n",
       "      <td>DE</td>\n",
       "      <td>19809</td>\n",
       "      <td>NaN</td>\n",
       "      <td>NaN</td>\n",
       "      <td>False</td>\n",
       "      <td>1970000.0</td>\n",
       "    </tr>\n",
       "    <tr>\n",
       "      <th>852</th>\n",
       "      <td>ocd-contest/232cb72c-1b11-4293-b4e2-a181e80d172e</td>\n",
       "      <td>1381868</td>\n",
       "      <td>83</td>\n",
       "      <td>PROPOSITION 064- MARIJUANA LEGALIZATION. INITI...</td>\n",
       "      <td>465</td>\n",
       "      <td>1385745</td>\n",
       "      <td>FUND FOR POLICY REFORM (NONPROFIT 501(C)(4))</td>\n",
       "      <td>SUPPORT</td>\n",
       "      <td>FUND FOR POLICY REFORM (NONPROFIT 501(C)(4))</td>\n",
       "      <td>2096507</td>\n",
       "      <td>2016-09-27</td>\n",
       "      <td>FUND FOR POLICY REFORM</td>\n",
       "      <td>NaN</td>\n",
       "      <td>WILMINGTON</td>\n",
       "      <td>DE</td>\n",
       "      <td>19809</td>\n",
       "      <td>NaN</td>\n",
       "      <td>NaN</td>\n",
       "      <td>False</td>\n",
       "      <td>1403000.0</td>\n",
       "    </tr>\n",
       "  </tbody>\n",
       "</table>\n",
       "</div>"
      ],
      "text/plain": [
       "                                          ocd_prop_id  calaccess_prop_id  \\\n",
       "142  ocd-contest/232cb72c-1b11-4293-b4e2-a181e80d172e            1381868   \n",
       "79   ocd-contest/232cb72c-1b11-4293-b4e2-a181e80d172e            1381868   \n",
       "846  ocd-contest/232cb72c-1b11-4293-b4e2-a181e80d172e            1381868   \n",
       "851  ocd-contest/232cb72c-1b11-4293-b4e2-a181e80d172e            1381868   \n",
       "852  ocd-contest/232cb72c-1b11-4293-b4e2-a181e80d172e            1381868   \n",
       "\n",
       "     ccdc_prop_id                                          prop_name  \\\n",
       "142            83  PROPOSITION 064- MARIJUANA LEGALIZATION. INITI...   \n",
       "79             83  PROPOSITION 064- MARIJUANA LEGALIZATION. INITI...   \n",
       "846            83  PROPOSITION 064- MARIJUANA LEGALIZATION. INITI...   \n",
       "851            83  PROPOSITION 064- MARIJUANA LEGALIZATION. INITI...   \n",
       "852            83  PROPOSITION 064- MARIJUANA LEGALIZATION. INITI...   \n",
       "\n",
       "     ccdc_committee_id  calaccess_committee_id  \\\n",
       "142                456                 1381808   \n",
       "79                 456                 1381808   \n",
       "846                464                 1385506   \n",
       "851                465                 1385745   \n",
       "852                465                 1385745   \n",
       "\n",
       "                                      committee_name_x committee_position  \\\n",
       "142  YES ON 64, CALIFORNIANS TO CONTROL, REGULATE A...            SUPPORT   \n",
       "79   YES ON 64, CALIFORNIANS TO CONTROL, REGULATE A...            SUPPORT   \n",
       "846  DRUG POLICY ACTION - NON PROFIT 501C4, YES ON ...            SUPPORT   \n",
       "851       FUND FOR POLICY REFORM (NONPROFIT 501(C)(4))            SUPPORT   \n",
       "852       FUND FOR POLICY REFORM (NONPROFIT 501(C)(4))            SUPPORT   \n",
       "\n",
       "                                      committee_name_y  calaccess_filing_id  \\\n",
       "142  YES ON 64, CALIFORNIANS TO CONTROL, REGULATE A...              2083528   \n",
       "79   YES ON 64, CALIFORNIANS TO CONTROL, REGULATE A...              2083528   \n",
       "846  DRUG POLICY ACTION - NON PROFIT 501C4, YES ON ...              2083608   \n",
       "851       FUND FOR POLICY REFORM (NONPROFIT 501(C)(4))              2082414   \n",
       "852       FUND FOR POLICY REFORM (NONPROFIT 501(C)(4))              2096507   \n",
       "\n",
       "    date_received                               contributor_lastname  \\\n",
       "142    2016-09-15                     PARKER AND AFFILIATED ENTITIES   \n",
       "79     2016-09-15  DRUG POLICY ACTION - NON PROFIT 501C4, YES ON ...   \n",
       "846    2016-09-15      FUND FOR POLICY REFORM (NONPROFIT 501 (C)(4))   \n",
       "851    2016-09-15                             FUND FOR POLICY REFORM   \n",
       "852    2016-09-27                             FUND FOR POLICY REFORM   \n",
       "\n",
       "    contributor_firstname contributor_city contributor_state contributor_zip  \\\n",
       "142                  SEAN        PALO ALTO                CA           94301   \n",
       "79                    NaN       SACRAMENTO                CA           95815   \n",
       "846                   NaN         NEW YORK                NY           10019   \n",
       "851                   NaN       WILMINGTON                DE           19809   \n",
       "852                   NaN       WILMINGTON                DE           19809   \n",
       "\n",
       "    contributor_employer contributor_occupation  contributor_is_self_employed  \\\n",
       "142                  NaN                    NaN                         False   \n",
       "79                   NaN                    NaN                         False   \n",
       "846                  NaN                    NaN                         False   \n",
       "851                  NaN                    NaN                         False   \n",
       "852                  NaN                    NaN                         False   \n",
       "\n",
       "        amount  \n",
       "142  4000000.0  \n",
       "79   2000000.0  \n",
       "846  1970000.0  \n",
       "851  1970000.0  \n",
       "852  1403000.0  "
      ]
     },
     "execution_count": 35,
     "metadata": {},
     "output_type": "execute_result"
    }
   ],
   "source": [
    "merged.sort_values(\"amount\", ascending=False).head()\n"
   ]
  },
  {
   "cell_type": "code",
   "execution_count": null,
   "metadata": {
    "collapsed": true
   },
   "outputs": [],
   "source": []
  }
 ],
 "metadata": {
  "kernelspec": {
   "display_name": "Python 2",
   "language": "python",
   "name": "python2"
  },
  "language_info": {
   "codemirror_mode": {
    "name": "ipython",
    "version": 2
   },
   "file_extension": ".py",
   "mimetype": "text/x-python",
   "name": "python",
   "nbconvert_exporter": "python",
   "pygments_lexer": "ipython2",
   "version": "2.7.13"
  }
 },
 "nbformat": 4,
 "nbformat_minor": 2
}
